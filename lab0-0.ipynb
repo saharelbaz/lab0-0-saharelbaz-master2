{
 "cells": [
  {
   "cell_type": "code",
   "execution_count": 4,
   "id": "20b0aea8",
   "metadata": {
    "deletable": false,
    "editable": false,
    "jupyter": {
     "outputs_hidden": true,
     "source_hidden": true
    }
   },
   "outputs": [
    {
     "name": "stdout",
     "output_type": "stream",
     "text": [
      "\n"
     ]
    }
   ],
   "source": [
    "# Please do not change this cell because some hidden tests might depend on it.\n",
    "import os\n",
    "\n",
    "# Otter grader does not handle ! commands well, so we define and use our\n",
    "# own function to execute shell commands.\n",
    "def shell(commands, warn=True):\n",
    "    \"\"\"Executes the string `commands` as a sequence of shell commands.\n",
    "     \n",
    "       Prints the result to stdout and returns the exit status. \n",
    "       Provides a printed warning on non-zero exit status unless `warn` \n",
    "       flag is unset.\n",
    "    \"\"\"\n",
    "    file = os.popen(commands)\n",
    "    print (file.read().rstrip('\\n'))\n",
    "    exit_status = file.close()\n",
    "    if warn and exit_status != None:\n",
    "        print(f\"Completed with errors. Exit status: {exit_status}\\n\")\n",
    "    return exit_status\n",
    "\n",
    "shell(\"\"\"\n",
    "ls requirements.txt >/dev/null 2>&1\n",
    "if [ ! $? = 0 ]; then\n",
    " rm -rf .tmp\n",
    " git clone https://github.com/cs236299-2023-spring/lab0-0.git .tmp\n",
    " mv .tmp/tests ./\n",
    " mv .tmp/requirements.txt ./\n",
    " rm -rf .tmp\n",
    "fi\n",
    "pip install -q -r requirements.txt\n",
    "\"\"\")"
   ]
  },
  {
   "cell_type": "code",
   "execution_count": 5,
   "id": "a440c1f9",
   "metadata": {
    "deletable": false,
    "editable": false
   },
   "outputs": [
    {
     "ename": "ModuleNotFoundError",
     "evalue": "No module named 'otter'",
     "output_type": "error",
     "traceback": [
      "\u001B[1;31m---------------------------------------------------------------------------\u001B[0m",
      "\u001B[1;31mModuleNotFoundError\u001B[0m                       Traceback (most recent call last)",
      "Cell \u001B[1;32mIn[5], line 2\u001B[0m\n\u001B[0;32m      1\u001B[0m \u001B[38;5;66;03m# Initialize Otter\u001B[39;00m\n\u001B[1;32m----> 2\u001B[0m \u001B[38;5;28;01mimport\u001B[39;00m \u001B[38;5;21;01motter\u001B[39;00m\n\u001B[0;32m      3\u001B[0m grader \u001B[38;5;241m=\u001B[39m otter\u001B[38;5;241m.\u001B[39mNotebook()\n",
      "\u001B[1;31mModuleNotFoundError\u001B[0m: No module named 'otter'"
     ]
    }
   ],
   "source": [
    "# Initialize Otter\n",
    "import otter\n",
    "grader = otter.Notebook()"
   ]
  },
  {
   "cell_type": "markdown",
   "id": "c2f66eb1",
   "metadata": {},
   "source": [
    "# Course 236299\n",
    "## Lab 0-0 – Environment setup\n",
    "\n",
    "The goal of this lab is to make sure that you have properly setup your environment following the instructions at https://github.com/nlp-236299/data/tree/master/requirements. If you encounter any issues, don't hesitate to ask in the course [piazza](piazza.com/technion.ac.il/spring2022/236299/home)."
   ]
  },
  {
   "cell_type": "code",
   "execution_count": null,
   "id": "eff8e07f",
   "metadata": {},
   "outputs": [],
   "source": [
    "import otter\n",
    "import torch\n",
    "import nltk\n",
    "import dateparser\n",
    "import cryptography\n",
    "import mysql.connector\n",
    "import datasets\n",
    "import tokenizers\n",
    "import transformers\n",
    "import wget"
   ]
  },
  {
   "cell_type": "markdown",
   "id": "ede3cadd",
   "metadata": {
    "deletable": false,
    "editable": false
   },
   "source": [
    "## Version Check\n",
    "\n",
    "<!--\n",
    "BEGIN QUESTION\n",
    "name: version_check\n",
    "-->\n",
    "Fill in the missing code in the below cell, and test your solution by running the `grader.check`(\"version_check\") function two cells below. There's also a cell at the end of the notebook to run all of the unit tests."
   ]
  },
  {
   "cell_type": "code",
   "execution_count": null,
   "id": "7815d5a3",
   "metadata": {},
   "outputs": [],
   "source": [
    "#TODO - define `otter_version` to be otter.__version__.\n",
    "otter_version = otter.__version__"
   ]
  },
  {
   "cell_type": "code",
   "execution_count": null,
   "id": "37eac831",
   "metadata": {
    "deletable": false,
    "editable": false
   },
   "outputs": [],
   "source": [
    "grader.check(\"version_check\")"
   ]
  },
  {
   "cell_type": "markdown",
   "id": "fe39563c",
   "metadata": {
    "deletable": false,
    "editable": false
   },
   "source": [
    "## Shell Command\n",
    "\n",
    "<!--\n",
    "BEGIN QUESTION\n",
    "name: shell_cmd\n",
    "-->\n",
    "Run the `grader.check`(\"shell_cmd\") function below to make sure that `shell()` function works for you."
   ]
  },
  {
   "cell_type": "code",
   "execution_count": 6,
   "id": "6d6eebfc",
   "metadata": {},
   "outputs": [],
   "source": [
    "#TODO - define `cmd` to be 'echo \"abc\"'.\n",
    "cmd = 'echo \"abc\"'"
   ]
  },
  {
   "cell_type": "code",
   "execution_count": null,
   "id": "93ba00da",
   "metadata": {
    "deletable": false,
    "editable": false
   },
   "outputs": [],
   "source": [
    "grader.check(\"shell_cmd\")"
   ]
  },
  {
   "cell_type": "markdown",
   "id": "a07541b5",
   "metadata": {},
   "source": [
    "## Submission Instructions\n",
    "\n",
    "This lab should be submitted to Gradescope at <https://rebrand.ly/lab0-0-submit>, which will be made available some time before the due date.\n",
    "\n",
    "Make sure that you have passed all public tests by running `grader.check_all()` below before submitting. Note that there will be hidden tests that are different from the public tests in future labs."
   ]
  },
  {
   "cell_type": "markdown",
   "id": "4c56d48c",
   "metadata": {},
   "source": [
    "In the following labs and problem sets, you'll use this environment to solve real problems.\n",
    "\n",
    "# End of lab 0"
   ]
  },
  {
   "cell_type": "markdown",
   "id": "c401d808",
   "metadata": {
    "deletable": false,
    "editable": false
   },
   "source": [
    "---\n",
    "\n",
    "To double-check your work, the cell below will rerun all of the autograder tests."
   ]
  },
  {
   "cell_type": "code",
   "execution_count": null,
   "id": "50182585",
   "metadata": {
    "deletable": false,
    "editable": false
   },
   "outputs": [],
   "source": [
    "grader.check_all()"
   ]
  }
 ],
 "metadata": {
  "kernelspec": {
   "display_name": "Python 3 (ipykernel)",
   "language": "python",
   "name": "python3"
  },
  "language_info": {
   "codemirror_mode": {
    "name": "ipython",
    "version": 3
   },
   "file_extension": ".py",
   "mimetype": "text/x-python",
   "name": "python",
   "nbconvert_exporter": "python",
   "pygments_lexer": "ipython3",
   "version": "3.8.6"
  },
  "title": "CS236299 Lab 0-0: Environment Setup",
  "vscode": {
   "interpreter": {
    "hash": "4fba83c08fc02185bb2310bd24d0cd81fb04529c933f82aa81c61aab9d5528dc"
   }
  }
 },
 "nbformat": 4,
 "nbformat_minor": 5
}